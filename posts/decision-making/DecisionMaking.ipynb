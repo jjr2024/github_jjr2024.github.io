{
 "cells": [
  {
   "cell_type": "raw",
   "metadata": {},
   "source": [
    "---\n",
    "title: Decision Making\n",
    "author: James Ohr\n",
    "date: '2024-03-30'\n",
    "description: \"A blog post about optimal decisionmaking in the context of bank loans.\"\n",
    "format: html\n",
    "---"
   ]
  },
  {
   "cell_type": "markdown",
   "metadata": {},
   "source": [
    "# Blog Post 2: 'Optimal' Decision Making\n",
    "\n",
    "Introduction: In this post, I analyze data, construct a logistic regression model, and make predictions on a test dataset to understand a simplified but relatively realistic decisionmaking process to find whether to make a loan to a borrower given information on their personal finances, their requested loan, and their employment history. I find a bank can maximize its profits by lending to a small number of higher-income individuals with smaller requested loans, longer credit histories, and more years of employment. Loans for different purposes have varying default rates and are correspondingly approved at different rates--medical loans in particular are more often rejected but have the highest default rates. Using a definition of fairness related to minimizing harm, I argue that it's reasonable for a bank to have lower approval ratings for medical loans so it can minimize harm to its own stakeholders.\n",
    "\n",
    "*I have neither given nor received unauthorized aid on this assignment - James Ohr*\n"
   ]
  },
  {
   "cell_type": "markdown",
   "metadata": {},
   "source": [
    "## Part A: Grab the Data"
   ]
  },
  {
   "cell_type": "code",
   "execution_count": 129,
   "metadata": {},
   "outputs": [],
   "source": [
    "#Importing the data and storing it in variable df_train\n",
    "\n",
    "import pandas as pd\n",
    "url = \"https://raw.githubusercontent.com/PhilChodrow/ml-notes/main/data/credit-risk/train.csv\"\n",
    "df_train = pd.read_csv(url)"
   ]
  },
  {
   "cell_type": "markdown",
   "metadata": {},
   "source": [
    "## Part B: Explore the Data"
   ]
  },
  {
   "cell_type": "code",
   "execution_count": 130,
   "metadata": {},
   "outputs": [
    {
     "data": {
      "text/html": [
       "<div>\n",
       "<style scoped>\n",
       "    .dataframe tbody tr th:only-of-type {\n",
       "        vertical-align: middle;\n",
       "    }\n",
       "\n",
       "    .dataframe tbody tr th {\n",
       "        vertical-align: top;\n",
       "    }\n",
       "\n",
       "    .dataframe thead th {\n",
       "        text-align: right;\n",
       "    }\n",
       "</style>\n",
       "<table border=\"1\" class=\"dataframe\">\n",
       "  <thead>\n",
       "    <tr style=\"text-align: right;\">\n",
       "      <th></th>\n",
       "      <th>person_age</th>\n",
       "      <th>person_income</th>\n",
       "      <th>person_home_ownership</th>\n",
       "      <th>person_emp_length</th>\n",
       "      <th>loan_intent</th>\n",
       "      <th>loan_grade</th>\n",
       "      <th>loan_amnt</th>\n",
       "      <th>loan_int_rate</th>\n",
       "      <th>loan_status</th>\n",
       "      <th>loan_percent_income</th>\n",
       "      <th>cb_person_default_on_file</th>\n",
       "      <th>cb_person_cred_hist_length</th>\n",
       "    </tr>\n",
       "  </thead>\n",
       "  <tbody>\n",
       "    <tr>\n",
       "      <th>0</th>\n",
       "      <td>25</td>\n",
       "      <td>43200</td>\n",
       "      <td>RENT</td>\n",
       "      <td>NaN</td>\n",
       "      <td>VENTURE</td>\n",
       "      <td>B</td>\n",
       "      <td>1200</td>\n",
       "      <td>9.91</td>\n",
       "      <td>0</td>\n",
       "      <td>0.03</td>\n",
       "      <td>N</td>\n",
       "      <td>4</td>\n",
       "    </tr>\n",
       "    <tr>\n",
       "      <th>1</th>\n",
       "      <td>27</td>\n",
       "      <td>98000</td>\n",
       "      <td>RENT</td>\n",
       "      <td>3.0</td>\n",
       "      <td>EDUCATION</td>\n",
       "      <td>C</td>\n",
       "      <td>11750</td>\n",
       "      <td>13.47</td>\n",
       "      <td>0</td>\n",
       "      <td>0.12</td>\n",
       "      <td>Y</td>\n",
       "      <td>6</td>\n",
       "    </tr>\n",
       "    <tr>\n",
       "      <th>2</th>\n",
       "      <td>22</td>\n",
       "      <td>36996</td>\n",
       "      <td>RENT</td>\n",
       "      <td>5.0</td>\n",
       "      <td>EDUCATION</td>\n",
       "      <td>A</td>\n",
       "      <td>10000</td>\n",
       "      <td>7.51</td>\n",
       "      <td>0</td>\n",
       "      <td>0.27</td>\n",
       "      <td>N</td>\n",
       "      <td>4</td>\n",
       "    </tr>\n",
       "    <tr>\n",
       "      <th>3</th>\n",
       "      <td>24</td>\n",
       "      <td>26000</td>\n",
       "      <td>RENT</td>\n",
       "      <td>2.0</td>\n",
       "      <td>MEDICAL</td>\n",
       "      <td>C</td>\n",
       "      <td>1325</td>\n",
       "      <td>12.87</td>\n",
       "      <td>1</td>\n",
       "      <td>0.05</td>\n",
       "      <td>N</td>\n",
       "      <td>4</td>\n",
       "    </tr>\n",
       "    <tr>\n",
       "      <th>4</th>\n",
       "      <td>29</td>\n",
       "      <td>53004</td>\n",
       "      <td>MORTGAGE</td>\n",
       "      <td>2.0</td>\n",
       "      <td>HOMEIMPROVEMENT</td>\n",
       "      <td>A</td>\n",
       "      <td>15000</td>\n",
       "      <td>9.63</td>\n",
       "      <td>0</td>\n",
       "      <td>0.28</td>\n",
       "      <td>N</td>\n",
       "      <td>10</td>\n",
       "    </tr>\n",
       "  </tbody>\n",
       "</table>\n",
       "</div>"
      ],
      "text/plain": [
       "   person_age  person_income person_home_ownership  person_emp_length  \\\n",
       "0          25          43200                  RENT                NaN   \n",
       "1          27          98000                  RENT                3.0   \n",
       "2          22          36996                  RENT                5.0   \n",
       "3          24          26000                  RENT                2.0   \n",
       "4          29          53004              MORTGAGE                2.0   \n",
       "\n",
       "       loan_intent loan_grade  loan_amnt  loan_int_rate  loan_status  \\\n",
       "0          VENTURE          B       1200           9.91            0   \n",
       "1        EDUCATION          C      11750          13.47            0   \n",
       "2        EDUCATION          A      10000           7.51            0   \n",
       "3          MEDICAL          C       1325          12.87            1   \n",
       "4  HOMEIMPROVEMENT          A      15000           9.63            0   \n",
       "\n",
       "   loan_percent_income cb_person_default_on_file  cb_person_cred_hist_length  \n",
       "0                 0.03                         N                           4  \n",
       "1                 0.12                         Y                           6  \n",
       "2                 0.27                         N                           4  \n",
       "3                 0.05                         N                           4  \n",
       "4                 0.28                         N                          10  "
      ]
     },
     "execution_count": 130,
     "metadata": {},
     "output_type": "execute_result"
    }
   ],
   "source": [
    "df_train.head()"
   ]
  },
  {
   "cell_type": "markdown",
   "metadata": {},
   "source": [
    "The above table helps me get a sense of the variables in the dataset and their types."
   ]
  },
  {
   "cell_type": "code",
   "execution_count": 131,
   "metadata": {},
   "outputs": [
    {
     "data": {
      "image/png": "[encoded data removed]",
      "text/plain": [
       "<Figure size 500x500 with 1 Axes>"
      ]
     },
     "metadata": {},
     "output_type": "display_data"
    }
   ],
   "source": [
    "import seaborn as sns\n",
    "import numpy as np\n",
    "import matplotlib.pyplot as plt\n",
    "\n",
    "\n",
    "g = sns.displot(df_train, x=\"loan_percent_income\", hue=\"loan_status\", element=\"step\", legend=False)\n",
    "plt.legend(title='Loan Status', loc='upper right', labels=['Default', 'No Default'])\n",
    "g.set(xlabel=\"Loan % of Income\")\n",
    "plt.show(g)"
   ]
  },
  {
   "cell_type": "markdown",
   "metadata": {},
   "source": [
    "The above figure shows that there are \n",
    "* significantly more borrowers who didn't default than those who did\n",
    "* individuals who receive a loan less than 30% of their income are unlikely to default on their loan\n",
    "* individuals who receive a loan over 30% of their income are significantly more likely to default than not."
   ]
  },
  {
   "cell_type": "code",
   "execution_count": 132,
   "metadata": {},
   "outputs": [
    {
     "data": {
      "image/png": "[encoded data removed]",
      "text/plain": [
       "<Figure size 702x500 with 1 Axes>"
      ]
     },
     "metadata": {},
     "output_type": "display_data"
    }
   ],
   "source": [
    "g = sns.displot(df_train, x=\"loan_int_rate\", hue=\"loan_intent\", kind=\"kde\")\n",
    "g.legend.set_title(\"Loan Purpose\")\n",
    "g.set(xlabel=\"Loan Interest Rate (%)\")\n",
    "plt.show(g)"
   ]
  },
  {
   "cell_type": "markdown",
   "metadata": {},
   "source": [
    "The above figure shows an interesting pattern across every single type of loan. Each distribution is approximately bimodal (although some have three local maxima). It's unsurprising, but there are far more people under the second peak, i.e., the higher interest rate peak, for each type of loan."
   ]
  },
  {
   "cell_type": "code",
   "execution_count": 133,
   "metadata": {},
   "outputs": [
    {
     "data": {
      "text/html": [
       "<div>\n",
       "<style scoped>\n",
       "    .dataframe tbody tr th:only-of-type {\n",
       "        vertical-align: middle;\n",
       "    }\n",
       "\n",
       "    .dataframe tbody tr th {\n",
       "        vertical-align: top;\n",
       "    }\n",
       "\n",
       "    .dataframe thead th {\n",
       "        text-align: right;\n",
       "    }\n",
       "</style>\n",
       "<table border=\"1\" class=\"dataframe\">\n",
       "  <thead>\n",
       "    <tr style=\"text-align: right;\">\n",
       "      <th></th>\n",
       "      <th>person_age</th>\n",
       "      <th>person_income</th>\n",
       "      <th>person_emp_length</th>\n",
       "      <th>loan_amnt</th>\n",
       "      <th>loan_int_rate</th>\n",
       "      <th>loan_status</th>\n",
       "      <th>loan_percent_income</th>\n",
       "      <th>cb_person_cred_hist_length</th>\n",
       "    </tr>\n",
       "    <tr>\n",
       "      <th>loan_intent</th>\n",
       "      <th></th>\n",
       "      <th></th>\n",
       "      <th></th>\n",
       "      <th></th>\n",
       "      <th></th>\n",
       "      <th></th>\n",
       "      <th></th>\n",
       "      <th></th>\n",
       "    </tr>\n",
       "  </thead>\n",
       "  <tbody>\n",
       "    <tr>\n",
       "      <th>DEBTCONSOLIDATION</th>\n",
       "      <td>27.588798</td>\n",
       "      <td>66693.453327</td>\n",
       "      <td>4.759419</td>\n",
       "      <td>9620.901149</td>\n",
       "      <td>10.983305</td>\n",
       "      <td>0.287458</td>\n",
       "      <td>0.170869</td>\n",
       "      <td>5.695548</td>\n",
       "    </tr>\n",
       "    <tr>\n",
       "      <th>EDUCATION</th>\n",
       "      <td>26.597620</td>\n",
       "      <td>63847.711917</td>\n",
       "      <td>4.440192</td>\n",
       "      <td>9460.015604</td>\n",
       "      <td>10.965465</td>\n",
       "      <td>0.173396</td>\n",
       "      <td>0.169352</td>\n",
       "      <td>5.141603</td>\n",
       "    </tr>\n",
       "    <tr>\n",
       "      <th>HOMEIMPROVEMENT</th>\n",
       "      <td>28.981737</td>\n",
       "      <td>73082.079600</td>\n",
       "      <td>5.103754</td>\n",
       "      <td>10348.725017</td>\n",
       "      <td>11.160075</td>\n",
       "      <td>0.264645</td>\n",
       "      <td>0.166733</td>\n",
       "      <td>6.430048</td>\n",
       "    </tr>\n",
       "    <tr>\n",
       "      <th>MEDICAL</th>\n",
       "      <td>27.950982</td>\n",
       "      <td>61314.583868</td>\n",
       "      <td>4.782062</td>\n",
       "      <td>9242.269907</td>\n",
       "      <td>11.051946</td>\n",
       "      <td>0.263289</td>\n",
       "      <td>0.172825</td>\n",
       "      <td>5.913547</td>\n",
       "    </tr>\n",
       "    <tr>\n",
       "      <th>PERSONAL</th>\n",
       "      <td>28.288339</td>\n",
       "      <td>68070.502495</td>\n",
       "      <td>4.897997</td>\n",
       "      <td>9549.427178</td>\n",
       "      <td>11.009814</td>\n",
       "      <td>0.193739</td>\n",
       "      <td>0.168671</td>\n",
       "      <td>6.151316</td>\n",
       "    </tr>\n",
       "    <tr>\n",
       "      <th>VENTURE</th>\n",
       "      <td>27.588643</td>\n",
       "      <td>66098.818162</td>\n",
       "      <td>4.877869</td>\n",
       "      <td>9516.417425</td>\n",
       "      <td>10.940866</td>\n",
       "      <td>0.148678</td>\n",
       "      <td>0.170130</td>\n",
       "      <td>5.744040</td>\n",
       "    </tr>\n",
       "  </tbody>\n",
       "</table>\n",
       "</div>"
      ],
      "text/plain": [
       "                   person_age  person_income  person_emp_length     loan_amnt  \\\n",
       "loan_intent                                                                     \n",
       "DEBTCONSOLIDATION   27.588798   66693.453327           4.759419   9620.901149   \n",
       "EDUCATION           26.597620   63847.711917           4.440192   9460.015604   \n",
       "HOMEIMPROVEMENT     28.981737   73082.079600           5.103754  10348.725017   \n",
       "MEDICAL             27.950982   61314.583868           4.782062   9242.269907   \n",
       "PERSONAL            28.288339   68070.502495           4.897997   9549.427178   \n",
       "VENTURE             27.588643   66098.818162           4.877869   9516.417425   \n",
       "\n",
       "                   loan_int_rate  loan_status  loan_percent_income  \\\n",
       "loan_intent                                                          \n",
       "DEBTCONSOLIDATION      10.983305     0.287458             0.170869   \n",
       "EDUCATION              10.965465     0.173396             0.169352   \n",
       "HOMEIMPROVEMENT        11.160075     0.264645             0.166733   \n",
       "MEDICAL                11.051946     0.263289             0.172825   \n",
       "PERSONAL               11.009814     0.193739             0.168671   \n",
       "VENTURE                10.940866     0.148678             0.170130   \n",
       "\n",
       "                   cb_person_cred_hist_length  \n",
       "loan_intent                                    \n",
       "DEBTCONSOLIDATION                    5.695548  \n",
       "EDUCATION                            5.141603  \n",
       "HOMEIMPROVEMENT                      6.430048  \n",
       "MEDICAL                              5.913547  \n",
       "PERSONAL                             6.151316  \n",
       "VENTURE                              5.744040  "
      ]
     },
     "execution_count": 133,
     "metadata": {},
     "output_type": "execute_result"
    }
   ],
   "source": [
    "df_train.groupby(\"loan_intent\").mean(numeric_only=True)"
   ]
  },
  {
   "cell_type": "markdown",
   "metadata": {},
   "source": [
    "Borrowers intending to use loans for home improvement tend to:\n",
    "* have higher incomes\n",
    "* receive greater loans\n",
    "* tend to have higher default rates, which are in line with default rates of loans for medical and debt consolidation.\n",
    "\n",
    "Medical loan borrowers tend to have the lowest incomes, the highest loan-to-income ratios, and the lowest loan amounts. The first observation is most surprising--I would have expected education loan borrowers to have the lowest incomes (maybe this has to do with co-signers)."
   ]
  },
  {
   "cell_type": "markdown",
   "metadata": {},
   "source": [
    "## Part C: Build a Model"
   ]
  },
  {
   "cell_type": "markdown",
   "metadata": {},
   "source": [
    "The below code pre-processes our data for use in the model. We drop the \"loan_grade\" variable, which the instructions disallow for building th emodel. We separate out \"loan status\" into an outcome variable, y. We transform categorical variables from strings into numbers. "
   ]
  },
  {
   "cell_type": "code",
   "execution_count": 134,
   "metadata": {},
   "outputs": [],
   "source": [
    "#Data pre-processing\n",
    "\n",
    "from sklearn.preprocessing import LabelEncoder\n",
    "le = LabelEncoder()\n",
    "\n",
    "def prepare_data(df):\n",
    "  df = df_train.drop([\"loan_grade\"], axis = 1)\n",
    "  df = df.dropna()\n",
    "  le.fit(df_train[\"person_home_ownership\"])\n",
    "  df[\"person_home_ownership\"] = le.transform(df[\"person_home_ownership\"])\n",
    "  le.fit(df_train[\"loan_intent\"])\n",
    "  df[\"loan_intent\"] = le.transform(df[\"loan_intent\"])\n",
    "  y = df[\"loan_status\"]\n",
    "  df = df.drop([\"loan_status\"], axis = 1)\n",
    "  df = pd.get_dummies(df)\n",
    "  return df, y\n",
    "\n",
    "X_train, y_train = prepare_data(df_train)\n",
    "df_train = df_train.dropna()"
   ]
  },
  {
   "cell_type": "markdown",
   "metadata": {},
   "source": [
    "Below, I chose the features for the model and fitted our model to our training data. I chose income and loan amount because they're the two components of the loan-to-income ratio, which seemed to be relatively revealing in the above chart showing loan status vs. loan-to-income. Adding employment length didn't actually change the accuracy of the model, but I added it just because intuitively I thought it might have an impact even though the table above didn't show anything particularly interesting regarding the variable."
   ]
  },
  {
   "cell_type": "code",
   "execution_count": 135,
   "metadata": {},
   "outputs": [
    {
     "data": {
      "text/plain": [
       "array([-4.05735465e-05,  1.06559046e-04, -2.48736069e-08])"
      ]
     },
     "execution_count": 135,
     "metadata": {},
     "output_type": "execute_result"
    }
   ],
   "source": [
    "#Choosing features\n",
    "from sklearn.linear_model import LogisticRegression\n",
    "\n",
    "LR = LogisticRegression()\n",
    "\n",
    "cols = [\"person_income\", \"loan_amnt\", \"person_emp_length\"]\n",
    "\n",
    "LR.fit(X_train[cols], y_train)\n",
    "LR.score(X_train[cols], y_train)\n",
    "LR.coef_[0]"
   ]
  },
  {
   "cell_type": "markdown",
   "metadata": {},
   "source": [
    "## Part D: Find a Threshold\n",
    "\n",
    "Below we have code that (1) finds the profit the bank makes from all of its loans (we ignore any NAs) and (2) identifies the threshold that maximizes profit."
   ]
  },
  {
   "cell_type": "code",
   "execution_count": 136,
   "metadata": {},
   "outputs": [],
   "source": [
    "#This function, taken from the week 2 lecture notes and just slightly modified to allow for a third x variable, calculates the risk score for a borrower. \n",
    "def linear_score(w, x0, x1, x2):\n",
    "    return w[0]*x0 + w[1]*x1 + w[2]*x2"
   ]
  },
  {
   "cell_type": "code",
   "execution_count": 137,
   "metadata": {},
   "outputs": [
    {
     "data": {
      "text/plain": [
       "0.8080062862880342"
      ]
     },
     "execution_count": 137,
     "metadata": {},
     "output_type": "execute_result"
    }
   ],
   "source": [
    "#Predict makes binary predictions for data using a supplied score function with weights w and a supplied threshold. Taken from lecture notes from week 2.\n",
    "#We begin with a 0 threshold but later on test others to find an optimal threshold\n",
    "\n",
    "t = 0\n",
    "\n",
    "def predict(score_fun, w, threshold, df):\n",
    "    \"\"\"\n",
    "    make binary predictions for data df using a supplied score function with weights w and supplied threshold. \n",
    "    \"\"\"\n",
    "    scores = score_fun(w, df[\"person_income\"], df[\"loan_amnt\"], df[\"person_emp_length\"])\n",
    "    return 1*(scores > threshold)\n",
    "\n",
    "df_train[\"decision\"] = predict(linear_score, LR.coef_[0], t, df_train)\n",
    "(df_train[\"decision\"] == df_train[\"loan_status\"]).mean()"
   ]
  },
  {
   "cell_type": "code",
   "execution_count": 138,
   "metadata": {},
   "outputs": [
    {
     "data": {
      "text/plain": [
       "25068803.47746343"
      ]
     },
     "execution_count": 138,
     "metadata": {},
     "output_type": "execute_result"
    }
   ],
   "source": [
    "# Creating a funciton to find profit\n",
    "#The loan_int_rate variable is expressed as a percentage, so we divide it by 100 to make it a regular proportion instead in both helper variables\n",
    "\n",
    "#Helper function to calculate profit for when loans are repaid, using the provided formula\n",
    "def calculateGain(loan_amnt, loan_int_rate):\n",
    "    return np.sum(loan_amnt*(1 + 0.25*loan_int_rate/100)**10 - loan_amnt) \n",
    "\n",
    "#Helper function to calculate loss for when loans are defaulted on, using the provided formula\n",
    "def calculateLoss(loan_amnt, loan_int_rate):\n",
    "    return np.sum(loan_amnt*(1 + 0.25*loan_int_rate/100)**3 - 1.7*loan_amnt)\n",
    "    \n",
    "def find_profit(df):\n",
    "    #Below df_repaid and df_default are created to select only the data points the model chooses\n",
    "    df_repaid = df[df[\"loan_status\"] == 0]\n",
    "    df_repaid = df_repaid[df_repaid[\"decision\"] == 0]\n",
    "    df_default = df[df[\"loan_status\"] == 1]\n",
    "    df_default = df_default[df_default[\"decision\"] == 0]\n",
    "    \n",
    "    return calculateGain(df_repaid[\"loan_amnt\"], df_repaid[\"loan_int_rate\"]) + calculateLoss(df_default[\"loan_amnt\"], df_default[\"loan_int_rate\"])\n",
    "\n",
    "find_profit(df_train)"
   ]
  },
  {
   "cell_type": "markdown",
   "metadata": {},
   "source": [
    "The below code just runs find_profit on every integer from -100 to 100 in an attempt to find the threshold that gest us the highest profit. We find that a threshold of -1 corresponds to the highest profit value, which is about $25 million."
   ]
  },
  {
   "cell_type": "code",
   "execution_count": 139,
   "metadata": {},
   "outputs": [
    {
     "data": {
      "text/plain": [
       "(-1.0, 25755817.698476546)"
      ]
     },
     "execution_count": 139,
     "metadata": {},
     "output_type": "execute_result"
    },
    {
     "data": {
      "image/png": "[encoded data removed]",
      "text/plain": [
       "<Figure size 500x500 with 1 Axes>"
      ]
     },
     "metadata": {},
     "output_type": "display_data"
    }
   ],
   "source": [
    "iterations = 200\n",
    "predictions = []\n",
    "for i in range(iterations):\n",
    "    threshold = (-iterations/2)+(i)\n",
    "    df_train[\"decision\"] = predict(linear_score, LR.coef_[0], threshold, df_train)\n",
    "    predictions.append((threshold, find_profit(df_train)))\n",
    "\n",
    "\n",
    "predictions_df = pd.DataFrame(data=predictions)\n",
    "predictions_df.columns =['Threshold', 'Profit']\n",
    "\n",
    "sns.relplot(data=predictions_df, x=\"Threshold\", y=\"Profit\")\n",
    "predictions_df['Threshold'][predictions_df['Profit'].idxmax()], predictions_df['Profit'].max()"
   ]
  },
  {
   "cell_type": "markdown",
   "metadata": {},
   "source": [
    "We obtain from our output above the chart of (-1.0, 25755817.698476546) that the profit-maximizing threshold is -1."
   ]
  },
  {
   "cell_type": "markdown",
   "metadata": {},
   "source": [
    "## Part E: Evaluate Your Model From the Bank's Perspective"
   ]
  },
  {
   "cell_type": "code",
   "execution_count": 140,
   "metadata": {},
   "outputs": [
    {
     "data": {
      "text/plain": [
       "(25755817.698476546, 1819.0421426990993, 0.6927576723272362)"
      ]
     },
     "execution_count": 140,
     "metadata": {},
     "output_type": "execute_result"
    }
   ],
   "source": [
    "#In these code block, we find for the training set the total profit of our model, the profit per approved borrower, and the accuracy rate.\n",
    "final_threshold = -1\n",
    "\n",
    "df_train[\"decision\"] = predict(linear_score, LR.coef_[0], final_threshold, df_train)\n",
    "borrowers_count = df_train[df_train[\"decision\"]==0].count()[\"loan_int_rate\"]\n",
    "find_profit(df_train), find_profit(df_train)/borrowers_count, (df_train[\"decision\"] == df_train[\"loan_status\"]).mean()"
   ]
  },
  {
   "cell_type": "code",
   "execution_count": 141,
   "metadata": {},
   "outputs": [
    {
     "data": {
      "text/plain": [
       "(5965836.794978274, 1632.2398891869423, 0.6898879852692957)"
      ]
     },
     "execution_count": 141,
     "metadata": {},
     "output_type": "execute_result"
    }
   ],
   "source": [
    "#In these code block, we find for the test set the total profit of our model, the profit per approved borrower, and the accuracy rate.\n",
    "url = \"https://raw.githubusercontent.com/PhilChodrow/ml-notes/main/data/credit-risk/test.csv\"\n",
    "df_test = pd.read_csv(url)\n",
    "\n",
    "df_test[\"decision\"] = predict(linear_score, LR.coef_[0], final_threshold, df_test)\n",
    "borrowers_count = df_test[df_test[\"decision\"]==0].count()[\"loan_int_rate\"]\n",
    "find_profit(df_test), find_profit(df_test)/borrowers_count, (df_test[\"decision\"] == df_test[\"loan_status\"]).mean()"
   ]
  },
  {
   "cell_type": "markdown",
   "metadata": {},
   "source": [
    "*What is the expected profit per borrower on the test set? Is it similar to your profit on the training set?*\n",
    "\n",
    "The profit per borrower was lower in the test dataset ($1,632) than the training dataset ($1,819), but the accuracy was similar, where accuracy is defined as the % of the time our default prediction actually matched the borrower's default status.\n",
    "\n",
    "Training accuracy: 69.3%\n",
    "\n",
    "Testing accuracy: 69.0%"
   ]
  },
  {
   "cell_type": "markdown",
   "metadata": {},
   "source": [
    "## Part F: Evaluate Your Model From the Borrower’s Perspective"
   ]
  },
  {
   "cell_type": "code",
   "execution_count": 142,
   "metadata": {},
   "outputs": [
    {
     "data": {
      "text/html": [
       "<div>\n",
       "<style scoped>\n",
       "    .dataframe tbody tr th:only-of-type {\n",
       "        vertical-align: middle;\n",
       "    }\n",
       "\n",
       "    .dataframe tbody tr th {\n",
       "        vertical-align: top;\n",
       "    }\n",
       "\n",
       "    .dataframe thead th {\n",
       "        text-align: right;\n",
       "    }\n",
       "</style>\n",
       "<table border=\"1\" class=\"dataframe\">\n",
       "  <thead>\n",
       "    <tr style=\"text-align: right;\">\n",
       "      <th></th>\n",
       "      <th>loan_status</th>\n",
       "      <th>decision</th>\n",
       "    </tr>\n",
       "    <tr>\n",
       "      <th>loan_intent</th>\n",
       "      <th></th>\n",
       "      <th></th>\n",
       "    </tr>\n",
       "  </thead>\n",
       "  <tbody>\n",
       "    <tr>\n",
       "      <th>DEBTCONSOLIDATION</th>\n",
       "      <td>0.279497</td>\n",
       "      <td>0.386847</td>\n",
       "    </tr>\n",
       "    <tr>\n",
       "      <th>EDUCATION</th>\n",
       "      <td>0.167421</td>\n",
       "      <td>0.401961</td>\n",
       "    </tr>\n",
       "    <tr>\n",
       "      <th>HOMEIMPROVEMENT</th>\n",
       "      <td>0.246088</td>\n",
       "      <td>0.270270</td>\n",
       "    </tr>\n",
       "    <tr>\n",
       "      <th>MEDICAL</th>\n",
       "      <td>0.281553</td>\n",
       "      <td>0.406958</td>\n",
       "    </tr>\n",
       "    <tr>\n",
       "      <th>PERSONAL</th>\n",
       "      <td>0.219227</td>\n",
       "      <td>0.385445</td>\n",
       "    </tr>\n",
       "    <tr>\n",
       "      <th>VENTURE</th>\n",
       "      <td>0.145701</td>\n",
       "      <td>0.361086</td>\n",
       "    </tr>\n",
       "  </tbody>\n",
       "</table>\n",
       "</div>"
      ],
      "text/plain": [
       "                   loan_status  decision\n",
       "loan_intent                             \n",
       "DEBTCONSOLIDATION     0.279497  0.386847\n",
       "EDUCATION             0.167421  0.401961\n",
       "HOMEIMPROVEMENT       0.246088  0.270270\n",
       "MEDICAL               0.281553  0.406958\n",
       "PERSONAL              0.219227  0.385445\n",
       "VENTURE               0.145701  0.361086"
      ]
     },
     "execution_count": 142,
     "metadata": {},
     "output_type": "execute_result"
    }
   ],
   "source": [
    "df_test.groupby([\"loan_intent\"])[[\"loan_status\", \"decision\"]].mean(numeric_only=True)"
   ]
  },
  {
   "cell_type": "markdown",
   "metadata": {},
   "source": [
    "The above table shows us the default rates by loan category, as well as what proportion of borrowers were approved by our model. Medical loans have the highest rejection rates and the highest default rates."
   ]
  },
  {
   "cell_type": "code",
   "execution_count": 143,
   "metadata": {},
   "outputs": [
    {
     "data": {
      "text/html": [
       "<div>\n",
       "<style scoped>\n",
       "    .dataframe tbody tr th:only-of-type {\n",
       "        vertical-align: middle;\n",
       "    }\n",
       "\n",
       "    .dataframe tbody tr th {\n",
       "        vertical-align: top;\n",
       "    }\n",
       "\n",
       "    .dataframe thead th {\n",
       "        text-align: right;\n",
       "    }\n",
       "</style>\n",
       "<table border=\"1\" class=\"dataframe\">\n",
       "  <thead>\n",
       "    <tr style=\"text-align: right;\">\n",
       "      <th></th>\n",
       "      <th>person_age</th>\n",
       "      <th>person_income</th>\n",
       "      <th>person_emp_length</th>\n",
       "      <th>loan_amnt</th>\n",
       "      <th>loan_int_rate</th>\n",
       "      <th>loan_status</th>\n",
       "      <th>loan_percent_income</th>\n",
       "      <th>cb_person_cred_hist_length</th>\n",
       "    </tr>\n",
       "    <tr>\n",
       "      <th>decision</th>\n",
       "      <th></th>\n",
       "      <th></th>\n",
       "      <th></th>\n",
       "      <th></th>\n",
       "      <th></th>\n",
       "      <th></th>\n",
       "      <th></th>\n",
       "      <th></th>\n",
       "    </tr>\n",
       "  </thead>\n",
       "  <tbody>\n",
       "    <tr>\n",
       "      <th>0</th>\n",
       "      <td>28.064977</td>\n",
       "      <td>82754.051932</td>\n",
       "      <td>5.244782</td>\n",
       "      <td>8949.870785</td>\n",
       "      <td>10.709193</td>\n",
       "      <td>0.123554</td>\n",
       "      <td>0.115412</td>\n",
       "      <td>6.052670</td>\n",
       "    </tr>\n",
       "    <tr>\n",
       "      <th>1</th>\n",
       "      <td>27.189894</td>\n",
       "      <td>39522.220049</td>\n",
       "      <td>4.133252</td>\n",
       "      <td>10859.555827</td>\n",
       "      <td>11.528797</td>\n",
       "      <td>0.381011</td>\n",
       "      <td>0.263394</td>\n",
       "      <td>5.496333</td>\n",
       "    </tr>\n",
       "  </tbody>\n",
       "</table>\n",
       "</div>"
      ],
      "text/plain": [
       "          person_age  person_income  person_emp_length     loan_amnt  \\\n",
       "decision                                                               \n",
       "0          28.064977   82754.051932           5.244782   8949.870785   \n",
       "1          27.189894   39522.220049           4.133252  10859.555827   \n",
       "\n",
       "          loan_int_rate  loan_status  loan_percent_income  \\\n",
       "decision                                                    \n",
       "0             10.709193     0.123554             0.115412   \n",
       "1             11.528797     0.381011             0.263394   \n",
       "\n",
       "          cb_person_cred_hist_length  \n",
       "decision                              \n",
       "0                           6.052670  \n",
       "1                           5.496333  "
      ]
     },
     "execution_count": 143,
     "metadata": {},
     "output_type": "execute_result"
    }
   ],
   "source": [
    "df_test.groupby([\"decision\"]).mean(numeric_only=True)"
   ]
  },
  {
   "cell_type": "markdown",
   "metadata": {},
   "source": [
    "The above table shows us the different average statistics of approved vs. rejected borrowers. Approved borrowers tend to be slightly older, have much higher income, have longer employment histories, ask for smaller loans, ask for loans that represent a smaller proportion of their income, and have longer credit histories."
   ]
  },
  {
   "cell_type": "code",
   "execution_count": 144,
   "metadata": {},
   "outputs": [],
   "source": [
    "bins = np.array([1,20,40,60,80,100])\n",
    "df_test[\"person_age\"] = pd.cut(df_test[\"person_age\"].astype('Int64'), bins, include_lowest=True)"
   ]
  },
  {
   "cell_type": "code",
   "execution_count": 145,
   "metadata": {},
   "outputs": [
    {
     "data": {
      "image/png": "[encoded data removed]",
      "text/plain": [
       "<Figure size 640x480 with 1 Axes>"
      ]
     },
     "metadata": {},
     "output_type": "display_data"
    }
   ],
   "source": [
    "g = sns.barplot(data=df_test, x=\"person_age\", y=\"decision\", color='blue')\n",
    "g.set(xlabel=\"Person Age Range\", ylabel=\"% of Age Range Rejected (w/ Confidence Intervals)\")\n",
    "plt.show(g)"
   ]
  },
  {
   "cell_type": "markdown",
   "metadata": {},
   "source": [
    "The above table shows the average decision rating for each age range (bucketed by 20 years). The Y axis shows what % of the age range is rejected. The lines on the bars indicate 95% confidence intervals."
   ]
  },
  {
   "cell_type": "markdown",
   "metadata": {},
   "source": [
    "Questions:\n",
    "1. Is it more difficult for people in certain age groups to access credit under your proposed system?\n",
    "2. Is it more difficult for people to get loans in order to pay for medical expenses? 2a. How does this compare with the actual rate of default in that group?  2b. What about people seeking loans for business ventures or education?\n",
    "3. How does a person’s income level impact the ease with which they can access credit under your decision system?\n",
    "\n",
    "\n"
   ]
  },
  {
   "cell_type": "markdown",
   "metadata": {},
   "source": [
    "Response:\n",
    "\n",
    "For the purpose of this discussion, we will consider a loan \"rejected\" if the model deems the loan too-high risk. All statistics are based on the test dataset.\n",
    "\n",
    "1. While the 20-40 and 40-60 age ranges seem to have about the same access to credit, the 60-80 age group has a significantly higher chance of being rejected--i.e., have lower access to credit. Younger borrowers seem to have the greatest variability in access to credit but generally have high access\n",
    "2. Compared to loans for other purposes, loans for medical expenses are frequently considered too high-risk to make according to our model. Our model is, in a sense, generous: 28.2% of medical borrowers defaulted, but 40.7% were considered too high-risk. In contrast, business venture loans were denied 36.1% of the time with 14.6% risk of default, so the default rate and rejection rate were even further apart. For loans for education, 40.2% of borrowers were rejected, while 16.7% of borrowers actually defaulted. So even though a 40.7% rejection rate for medical borrowers is higher than loans for other purposes, the rejection rate seems reasonable when we consider the high default rate of medical loans.\n",
    "3. The higher the income, the lower the perceived risk by the model. This is clearest in the simple table above that groups individuals by the \"decision\" column results. The borrowers the model would accept have about 13 more months of work experience, request loans that are smaller by about $2,000, and have credit histories that are 6 months longer. But the starkest differences are in the income of the borrower and (2) the percentage of income the loan represented, which is directly related to income. The income of approved borrowers is about double the income of rejected borrowers. The loan-to-income ratio is about three times higher for rejected borrowers than approved borrowers."
   ]
  },
  {
   "cell_type": "markdown",
   "metadata": {},
   "source": [
    "## Part G: Write and Reflect\n",
    "\n",
    "\n",
    "**Discussion on Fairness**\n",
    "\n",
    "*Considering that people seeking loans for medical expense have high rates of default, is it fair that it is more difficult for them to obtain access to credit?*\n",
    "\n",
    "*Fairness*\n",
    "\n",
    "Fairness in decision-making is to make choices that minimize harm to all parties, with particular regard to parties with low/no control. \n",
    "\n",
    "*Control*\n",
    "\n",
    "The bank has full control over whether to make the loan, so they clearly have substantial control. The borrower has far less control but not no control--excluding cases in which people have a serious illness / injury that prevents them from working, they have some level of control over their personal finances, particularly their income. Still, the borrower has likely little control over the size of the loan they need given the nature of medical expenses and, relatedly, the percentage of income their loan constitutes. So in this way, it's unlikely that a perfectly fair decision can be made. But the bank has to make a decision, and so the goal should be to achieve a target that gets as close to fairness as possible.\n",
    "\n",
    "*Harm*\n",
    "\n",
    "It is not only the borrower who can experience harm in this scenario by being denied a loan. The bank experiences financial harm by lending to a borrower with excessively high risk. This harm is harder to see immediately--it's distributed in the form of risk or loss across shareholders, management, employees, depositors, lenders, etc, but it's harm nonetheless. And if a bank were to repeatedly make loans with negative expected value, it risks serious harm to those stakeholders (e.g., people losing savings in the bank's stock; employees losing jobs; depositors losing uninsured deposits).\n",
    "\n",
    "It's possible the bank could just make loans with lower expected value instead, not negative expected value. But even that could mean a decline in the business over time as competitors generate greater profits and reinvest those profits to become more competitive, harming this bank's business and hence its stakeholders.\n",
    "\n",
    "In conclusion, balancing the benefit to the bank's stakeholders with the potential harm to rejected borrowers, I conclude that it is fair for medical loan borrowers to have more difficulty accessing credit.\n",
    "\n",
    "To reach a conclusion about whether this specific model and its decisions are fair, we would have to make assumptions about the level of harm being done to rejected borrowers and the benefit to stakeholders in the bank from those borrowers being rejected.\n",
    "\n",
    "**Reflection on Blog Post**\n",
    "\n",
    "I found that it is possible to construct a logistic regression model that can predict borrower outcomes with relative accuracy. One of the most interesting findings was that in this case, to maximize our target variable, we actually didn't optimize accuracy. A threshold of 0 yields around 80% accuracy on the training set, far higher than our profit-maximizing threshold of -1, which yields 69% accuracy on the training set. I learned more about how to visualize data and had to grapple with the best ways to visualize so many variables. I ultimately concluded that I would keep my graphs relatively simple and show a more complete story via tables. I learned to work with subsets of my own data: Part D in particular was tricky for me because I had trouble finding a way to construct the find_profit function.\n",
    "\n",
    "Unlike the Classifying Penguins post, there was a lot less guidance, which I think was helpful in forcing me to edit and therefore engage further with the example code given previously (e.g.,  pre-processing the data at the start of Part C)\n"
   ]
  }
 ],
 "metadata": {
  "kernelspec": {
   "display_name": "ml-0451",
   "language": "python",
   "name": "python3"
  },
  "language_info": {
   "codemirror_mode": {
    "name": "ipython",
    "version": 3
   },
   "file_extension": ".py",
   "mimetype": "text/x-python",
   "name": "python",
   "nbconvert_exporter": "python",
   "pygments_lexer": "ipython3",
   "version": "3.9.18"
  }
 },
 "nbformat": 4,
 "nbformat_minor": 2
}
