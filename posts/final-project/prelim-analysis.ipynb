{
 "cells": [
  {
   "cell_type": "raw",
   "metadata": {
    "vscode": {
     "languageId": "raw"
    }
   },
   "source": [
    "---\n",
    "date: '2024-05-14'\n",
    "description: \"Part of project.\"\n",
    "format: html\n",
    "---"
   ]
  },
  {
   "cell_type": "markdown",
   "metadata": {},
   "source": [
    "## Preliminary Analysis Using Google Trends "
   ]
  },
  {
   "cell_type": "code",
   "execution_count": null,
   "metadata": {},
   "outputs": [],
   "source": [
    "#Importing the data and storing it in variable df_all\n",
    "\n",
    "import pandas as pd\n",
    "from sklearn.model_selection import train_test_split\n",
    "df_all = pd.read_csv(\"crox-early-data.csv\")\n",
    "\n",
    "df_all = df_all.dropna()\n",
    "\n",
    "df_train, df_test = train_test_split(df_all, test_size=0.3, random_state=1)\n",
    "X_train = df_train.drop(columns=['Close Higher'])\n",
    "y_train = df_train['Close Higher']\n",
    "\n",
    "X_test = df_test.drop(columns=['Close Higher'])\n",
    "y_test = df_test['Close Higher']\n",
    "\n",
    "X_train.head()"
   ]
  },
  {
   "cell_type": "code",
   "execution_count": null,
   "metadata": {},
   "outputs": [],
   "source": [
    "df_all.groupby(\"Close Higher\").mean(numeric_only=True)"
   ]
  },
  {
   "cell_type": "code",
   "execution_count": null,
   "metadata": {},
   "outputs": [],
   "source": [
    "#Choosing features\n",
    "from sklearn.linear_model import LogisticRegression\n",
    "\n",
    "LR = LogisticRegression()\n",
    "\n",
    "cols = [\"Previous GT\", \"TTM PE\"]\n",
    "\n",
    "LR.fit(X_train[cols], y_train)\n",
    "LR.score(X_train[cols], y_train)\n",
    "LR.coef_[0]"
   ]
  },
  {
   "cell_type": "code",
   "execution_count": null,
   "metadata": {},
   "outputs": [],
   "source": [
    "def linear_score(w, x0, x1):\n",
    "    return w[0]*x0 + w[1]*x1"
   ]
  },
  {
   "cell_type": "code",
   "execution_count": null,
   "metadata": {},
   "outputs": [],
   "source": [
    "#Predict makes binary predictions for data using a supplied score function with weights w and a supplied threshold. Taken from lecture notes from week 2.\n",
    "#We begin with a 0 threshold but later on test others to find an optimal threshold\n",
    "\n",
    "t = 0\n",
    "\n",
    "def predict(score_fun, w, threshold, df):\n",
    "    \"\"\"\n",
    "    make binary predictions for data df using a supplied score function with weights w and supplied threshold. \n",
    "    \"\"\"\n",
    "    scores = score_fun(w, df[\"Previous GT\"], df[\"TTM PE\"])\n",
    "    return 1*(scores > threshold)\n",
    "\n",
    "df_train[\"decision\"] = predict(linear_score, LR.coef_[0], t, df_all)\n",
    "(df_train[\"decision\"] == df_train[\"Close Higher\"]).mean()"
   ]
  },
  {
   "cell_type": "code",
   "execution_count": null,
   "metadata": {},
   "outputs": [],
   "source": [
    "import seaborn as sns\n",
    "import numpy as np\n",
    "import matplotlib.pyplot as plt\n",
    "\n",
    "\n",
    "iterations = 200\n",
    "predictions = []\n",
    "for i in range(iterations):\n",
    "    threshold = (-iterations/2)+(i)\n",
    "    df_train[\"decision\"] = predict(linear_score, LR.coef_[0], threshold, df_train)\n",
    "    predictions.append((threshold, (df_train[\"decision\"] == df_train[\"Close Higher\"]).mean()))\n",
    "\n",
    "\n",
    "predictions_df = pd.DataFrame(data=predictions)\n",
    "predictions_df.columns =['Threshold', 'Accuracy']\n",
    "\n",
    "sns.relplot(data=predictions_df, x=\"Threshold\", y=\"Accuracy\")\n",
    "\n",
    "t = predictions_df['Threshold'][predictions_df['Accuracy'].idxmax()]\n",
    "\n",
    "predictions_df['Threshold'][predictions_df['Accuracy'].idxmax()], predictions_df['Accuracy'].max()\n"
   ]
  },
  {
   "cell_type": "code",
   "execution_count": null,
   "metadata": {},
   "outputs": [],
   "source": [
    "df_test[\"decision\"] = predict(linear_score, LR.coef_[0], t, df_test)\n",
    "(df_test[\"decision\"] == df_test[\"Close Higher\"]).mean()"
   ]
  }
 ],
 "metadata": {
  "kernelspec": {
   "display_name": "ml-0451",
   "language": "python",
   "name": "python3"
  },
  "language_info": {
   "codemirror_mode": {
    "name": "ipython",
    "version": 3
   },
   "file_extension": ".py",
   "mimetype": "text/x-python",
   "name": "python",
   "nbconvert_exporter": "python",
   "pygments_lexer": "ipython3",
   "version": "3.9.18"
  }
 },
 "nbformat": 4,
 "nbformat_minor": 2
}
